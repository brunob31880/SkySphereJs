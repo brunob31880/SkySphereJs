{
 "cells": [
  {
   "cell_type": "code",
   "execution_count": 7,
   "id": "78f7f2bf",
   "metadata": {},
   "outputs": [
    {
     "name": "stdout",
     "output_type": "stream",
     "text": [
      "Azimut: 359.5685400437059°, Altitude: 43.01247672245986°\n"
     ]
    }
   ],
   "source": [
    "from astropy import units as u\n",
    "from astropy.coordinates import SkyCoord, EarthLocation, AltAz\n",
    "from astropy.time import Time\n",
    "\n",
    "# etoile polaire \n",
    "coord = SkyCoord(ra=37.94614689*u.deg, dec=89.26413805*u.deg, frame='icrs')\n",
    "\n",
    "# Utilisation de l'heure actuelle\n",
    "time = Time.now()\n",
    "\n",
    "# Position mise à jour pour latitude 43.57 et longitude 1.25\n",
    "observatory = EarthLocation(lat=43.57*u.deg, lon=1.25*u.deg)\n",
    "\n",
    "altaz = coord.transform_to(AltAz(obstime=time, location=observatory))\n",
    "print(f\"Azimut: {altaz.az.value}°, Altitude: {altaz.alt.value}°\")"
   ]
  },
  {
   "cell_type": "code",
   "execution_count": null,
   "id": "9edfba74",
   "metadata": {},
   "outputs": [],
   "source": []
  }
 ],
 "metadata": {
  "kernelspec": {
   "display_name": "Python 3 (ipykernel)",
   "language": "python",
   "name": "python3"
  },
  "language_info": {
   "codemirror_mode": {
    "name": "ipython",
    "version": 3
   },
   "file_extension": ".py",
   "mimetype": "text/x-python",
   "name": "python",
   "nbconvert_exporter": "python",
   "pygments_lexer": "ipython3",
   "version": "3.9.17"
  }
 },
 "nbformat": 4,
 "nbformat_minor": 5
}
